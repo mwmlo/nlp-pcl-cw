{
 "cells": [
  {
   "cell_type": "code",
   "execution_count": 4,
   "metadata": {},
   "outputs": [],
   "source": [
    "import pandas as pd\n",
    "from sklearn.feature_extraction.text import TfidfVectorizer\n",
    "from sklearn.naive_bayes import MultinomialNB\n",
    "from sklearn.metrics import accuracy_score, classification_report, confusion_matrix\n",
    "import matplotlib.pyplot as plt\n",
    "import seaborn as sns\n",
    "from imblearn.over_sampling import SMOTE"
   ]
  },
  {
   "cell_type": "code",
   "execution_count": 5,
   "metadata": {},
   "outputs": [
    {
     "name": "stdout",
     "output_type": "stream",
     "text": [
      "cuda\n"
     ]
    }
   ],
   "source": [
    "from torch import cuda\n",
    "device = 'cuda' if cuda.is_available() else 'cpu'\n",
    "print(device)"
   ]
  },
  {
   "cell_type": "code",
   "execution_count": 6,
   "metadata": {},
   "outputs": [],
   "source": [
    "train_df = pd.read_csv(\"train_dev_data/train_set.csv\").dropna()\n",
    "dev_df = pd.read_csv(\"train_dev_data/dev_set.csv\").dropna()\n",
    "X_train = train_df['text']\n",
    "y_train = train_df['label']\n",
    "X_test = dev_df['text']\n",
    "y_test = dev_df['label']"
   ]
  },
  {
   "cell_type": "code",
   "execution_count": 7,
   "metadata": {},
   "outputs": [],
   "source": [
    "# Convert text to numerical representation\n",
    "vectorizer = TfidfVectorizer(stop_words='english')  # Use TF-IDF\n",
    "X_train_tfidf = vectorizer.fit_transform(X_train)\n",
    "X_test_tfidf = vectorizer.transform(X_test)\n",
    "\n",
    "# Apply SMOTE to balance the training data\n",
    "smote = SMOTE(sampling_strategy='auto', random_state=42)\n",
    "X_train_resampled, y_train_resampled = smote.fit_resample(X_train_tfidf, y_train)\n",
    "\n",
    "# Train Naive Bayes on the resampled data\n",
    "nb_model = MultinomialNB()\n",
    "nb_model.fit(X_train_resampled, y_train_resampled)\n",
    "\n",
    "# Make predictions\n",
    "y_pred = nb_model.predict(X_test_tfidf)"
   ]
  },
  {
   "cell_type": "code",
   "execution_count": 8,
   "metadata": {},
   "outputs": [
    {
     "name": "stdout",
     "output_type": "stream",
     "text": [
      "Top words indicating PCL:\n",
      "hopeless -6.168767907927502\n",
      "said -5.898298924014176\n",
      "hope -5.862377753671461\n",
      "help -5.85248763535748\n",
      "families -5.703744315621391\n",
      "children -5.632547637461205\n",
      "poor -5.623277396780691\n",
      "homeless -5.607332618963791\n",
      "people -5.579324713370331\n",
      "need -5.4111804903432414\n",
      "\n",
      "Top words indicating Non-PCL:\n",
      "homeless -6.540133256642282\n",
      "refugees -6.485708736694856\n",
      "need -6.436064733820998\n",
      "disabled -6.419781267560063\n",
      "vulnerable -6.414398934202593\n",
      "families -6.413972137734669\n",
      "immigrants -6.281632619864657\n",
      "people -6.194833649158339\n",
      "women -6.182944420916919\n",
      "said -6.018422001782316\n"
     ]
    }
   ],
   "source": [
    "import numpy as np\n",
    "\n",
    "# Assuming 'vectorizer' is your TfidfVectorizer and 'nb_model' is your trained MultinomialNB\n",
    "feature_names = vectorizer.get_feature_names_out()\n",
    "\n",
    "# log probabilities for each class (0 = non-PCL, 1 = PCL)\n",
    "class_log_probs = nb_model.feature_log_prob_\n",
    "\n",
    "# Find the top words for PCL (class 1)\n",
    "top_pcl_indices = np.argsort(class_log_probs[1])[-10:]\n",
    "top_non_pcl_indices = np.argsort(class_log_probs[0])[-10:]\n",
    "\n",
    "print(\"Top words indicating PCL:\")\n",
    "for i in top_pcl_indices:\n",
    "    print(feature_names[i], class_log_probs[1][i])\n",
    "\n",
    "print(\"\\nTop words indicating Non-PCL:\")\n",
    "for i in top_non_pcl_indices:\n",
    "    print(feature_names[i], class_log_probs[0][i])"
   ]
  },
  {
   "cell_type": "code",
   "execution_count": 9,
   "metadata": {},
   "outputs": [
    {
     "name": "stdout",
     "output_type": "stream",
     "text": [
      "Classification Report:\n",
      "              precision    recall  f1-score   support\n",
      "\n",
      "           0       0.95      0.81      0.88      1894\n",
      "           1       0.25      0.59      0.35       199\n",
      "\n",
      "    accuracy                           0.79      2093\n",
      "   macro avg       0.60      0.70      0.61      2093\n",
      "weighted avg       0.88      0.79      0.83      2093\n",
      "\n",
      "Confusion Matrix:\n",
      "[[1541  353]\n",
      " [  81  118]]\n"
     ]
    },
    {
     "data": {
      "image/png": "[encoded data removed]",
      "text/plain": [
       "<Figure size 640x480 with 2 Axes>"
      ]
     },
     "metadata": {},
     "output_type": "display_data"
    }
   ],
   "source": [
    "# Evaluate the model\n",
    "# Classification report\n",
    "print(\"Classification Report:\")\n",
    "print(classification_report(y_test, y_pred))\n",
    "\n",
    "# Confusion matrix\n",
    "cm = confusion_matrix(y_test, y_pred)\n",
    "print(\"Confusion Matrix:\")\n",
    "print(cm)\n",
    "\n",
    "# Plot confusion matrix\n",
    "sns.heatmap(cm, annot=True, fmt=\"d\", cmap=\"Blues\", xticklabels=[\"Class 0\", \"Class 1\"], yticklabels=[\"Class 0\", \"Class 1\"])\n",
    "plt.xlabel(\"Predicted\")\n",
    "plt.ylabel(\"Actual\")\n",
    "plt.title(\"Confusion Matrix\")\n",
    "plt.show()"
   ]
  }
 ],
 "metadata": {
  "kernelspec": {
   "display_name": ".venv",
   "language": "python",
   "name": "python3"
  },
  "language_info": {
   "codemirror_mode": {
    "name": "ipython",
    "version": 3
   },
   "file_extension": ".py",
   "mimetype": "text/x-python",
   "name": "python",
   "nbconvert_exporter": "python",
   "pygments_lexer": "ipython3",
   "version": "3.12.3"
  }
 },
 "nbformat": 4,
 "nbformat_minor": 2
}
